{
  "nbformat": 4,
  "nbformat_minor": 0,
  "metadata": {
    "colab": {
      "provenance": []
    },
    "kernelspec": {
      "name": "python3",
      "display_name": "Python 3"
    },
    "language_info": {
      "name": "python"
    }
  },
  "cells": [
    {
      "cell_type": "markdown",
      "source": [
        "🧑‍💻 Activity 1: Scraping Your Favorite Quotes\n",
        "We’ll scrape quotes from a fun website: http://quotes.toscrape.com/.\n",
        "\n",
        "🚀 Step 1: Fetch the Web Page"
      ],
      "metadata": {
        "id": "o1XTB9ZiSQMA"
      }
    },
    {
      "cell_type": "code",
      "source": [
        "import requests\n",
        "\n",
        "url = \"http://quotes.toscrape.com/\"\n",
        "response = requests.get(url)\n",
        "\n",
        "print(\"Status Code:\", response.status_code)\n",
        "print(response.text[:500])  # Preview the first 500 characters\n"
      ],
      "metadata": {
        "colab": {
          "base_uri": "https://localhost:8080/"
        },
        "id": "mckgbJ5qSTU0",
        "outputId": "800dcd3e-e7d9-418e-cca4-8d073b555a27"
      },
      "execution_count": 1,
      "outputs": [
        {
          "output_type": "stream",
          "name": "stdout",
          "text": [
            "Status Code: 200\n",
            "<!DOCTYPE html>\n",
            "<html lang=\"en\">\n",
            "<head>\n",
            "\t<meta charset=\"UTF-8\">\n",
            "\t<title>Quotes to Scrape</title>\n",
            "    <link rel=\"stylesheet\" href=\"/static/bootstrap.min.css\">\n",
            "    <link rel=\"stylesheet\" href=\"/static/main.css\">\n",
            "    \n",
            "    \n",
            "</head>\n",
            "<body>\n",
            "    <div class=\"container\">\n",
            "        <div class=\"row header-box\">\n",
            "            <div class=\"col-md-8\">\n",
            "                <h1>\n",
            "                    <a href=\"/\" style=\"text-decoration: none\">Quotes to Scrape</a>\n",
            "                </h1>\n",
            "            </div>\n",
            "            <div cla\n"
          ]
        }
      ]
    },
    {
      "cell_type": "markdown",
      "source": [
        "🛠 Interactive Task:\n",
        "Q1: What is the status code?\n",
        "(Hint: 200 means success!)"
      ],
      "metadata": {
        "id": "eGV3PzkqSXkr"
      }
    },
    {
      "cell_type": "markdown",
      "source": [
        "🚀 Step 2: Parse the HTML"
      ],
      "metadata": {
        "id": "T7w4UzmjSfws"
      }
    },
    {
      "cell_type": "code",
      "source": [
        "from bs4 import BeautifulSoup\n",
        "\n",
        "soup = BeautifulSoup(response.text, \"html.parser\")\n",
        "quotes = soup.find_all(\"span\", class_=\"text\")\n",
        "\n",
        "for i, quote in enumerate(quotes):\n",
        "    print(f\"{i+1}: {quote.text}\")\n"
      ],
      "metadata": {
        "colab": {
          "base_uri": "https://localhost:8080/"
        },
        "id": "FWFHBSZEScHH",
        "outputId": "786dbdcb-aa09-438f-ec60-477faa9bccd5"
      },
      "execution_count": 2,
      "outputs": [
        {
          "output_type": "stream",
          "name": "stdout",
          "text": [
            "1: “The world as we have created it is a process of our thinking. It cannot be changed without changing our thinking.”\n",
            "2: “It is our choices, Harry, that show what we truly are, far more than our abilities.”\n",
            "3: “There are only two ways to live your life. One is as though nothing is a miracle. The other is as though everything is a miracle.”\n",
            "4: “The person, be it gentleman or lady, who has not pleasure in a good novel, must be intolerably stupid.”\n",
            "5: “Imperfection is beauty, madness is genius and it's better to be absolutely ridiculous than absolutely boring.”\n",
            "6: “Try not to become a man of success. Rather become a man of value.”\n",
            "7: “It is better to be hated for what you are than to be loved for what you are not.”\n",
            "8: “I have not failed. I've just found 10,000 ways that won't work.”\n",
            "9: “A woman is like a tea bag; you never know how strong it is until it's in hot water.”\n",
            "10: “A day without sunshine is like, you know, night.”\n"
          ]
        }
      ]
    },
    {
      "cell_type": "markdown",
      "source": [
        "🛠 Interactive Task:\n",
        "Q2: What’s your favorite quote from the list? Write it down! ✍️"
      ],
      "metadata": {
        "id": "75EZGaq6SmoH"
      }
    },
    {
      "cell_type": "markdown",
      "source": [
        "🚀 Step 3: Save Quotes to a CSV"
      ],
      "metadata": {
        "id": "fxqigqISSrgw"
      }
    },
    {
      "cell_type": "code",
      "source": [
        "import pandas as pd\n",
        "\n",
        "data = [{\"Quote\": quote.text} for quote in quotes]\n",
        "df = pd.DataFrame(data)\n",
        "df.to_csv(\"quotes.csv\", index=False)\n",
        "\n",
        "print(\"Quotes saved to quotes.csv 🎉\")\n"
      ],
      "metadata": {
        "colab": {
          "base_uri": "https://localhost:8080/"
        },
        "id": "wqLmxeYkSt1N",
        "outputId": "1ce717de-d600-418e-c213-ce5bfb5c9665"
      },
      "execution_count": 3,
      "outputs": [
        {
          "output_type": "stream",
          "name": "stdout",
          "text": [
            "Quotes saved to quotes.csv 🎉\n"
          ]
        }
      ]
    },
    {
      "cell_type": "markdown",
      "source": [
        "🛠 Interactive Task:\n",
        "Open the quotes.csv file and see the magic!"
      ],
      "metadata": {
        "id": "aM4ILX7PS0uJ"
      }
    },
    {
      "cell_type": "markdown",
      "source": [
        "🎮 Game Time: Build Your Own Scraper\n",
        "Pick one of these challenges:\n",
        "\n",
        "Scrape the authors’ names from the same site.\n",
        "Scrape the tags associated with each quote.\n",
        "Scrape the next page and collect more quotes.\n",
        "Bonus Points:\n",
        "Design your scraper to save both quotes and authors to a single CSV file!\n",
        "\n"
      ],
      "metadata": {
        "id": "-fW_TAZuS6nv"
      }
    },
    {
      "cell_type": "markdown",
      "source": [
        " Cool Extensions\n",
        "Want to level up? Explore these:\n",
        "\n",
        "Scrape images from a website.\n",
        "Build a simple visualization of the most common words in quotes using matplotlib or wordcloud.\n"
      ],
      "metadata": {
        "id": "4gbyE2aNS-by"
      }
    },
    {
      "cell_type": "code",
      "source": [],
      "metadata": {
        "id": "oUY33sECS2So"
      },
      "execution_count": null,
      "outputs": []
    },
    {
      "cell_type": "markdown",
      "source": [
        "🏁 Wrap-Up and Reflection\n",
        "Let’s take a moment to reflect on our web scraping adventure! 🚀\n",
        "\n",
        "🌟 Discussion Questions\n",
        "What did you enjoy the most about scraping today?\n",
        "Was it finding cool quotes? Writing code? Or saving your results to a CSV? Share your highlights!\n",
        "What challenges did you face?\n",
        "Did the website behave differently than expected? Were there any errors or tricky parts?\n",
        "What would you like to scrape next?\n",
        "Think big! What data excites you—movies, weather, sports stats, or something else?\n",
        "🎨 Creative Share\n",
        "Create a quick presentation or visual of what you scraped (e.g., a list, chart, or even a word cloud!).\n",
        "Share your insights with the class. Bonus points for creativity! 🌈✨\n",
        "vbnet\n",
        "Copy\n",
        "Edit\n"
      ],
      "metadata": {
        "id": "BXNCpPp5TKb9"
      }
    },
    {
      "cell_type": "markdown",
      "source": [],
      "metadata": {
        "id": "53g15yY2TCaa"
      }
    }
  ]
}